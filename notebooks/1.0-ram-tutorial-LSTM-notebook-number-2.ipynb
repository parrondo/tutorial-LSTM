{
 "cells": [
  {
   "cell_type": "markdown",
   "metadata": {
    "collapsed": true
   },
   "source": [
    "# Tutorial-LSTM: Project for testing LSTM time series forecasting"
   ]
  },
  {
   "cell_type": "markdown",
   "metadata": {},
   "source": [
    "**Notebook number 2/2**\n",
    "\n",
    "This is a short deep learning tutorial to show how to implement LSTM time series forecasting using the cookiecutter Deep Learning template: https://github.com/tdeboissiere/cookiecutter-deeplearning\n",
    "\n",
    "This template is very flexible and clear, but sometimes is not evidence for inexperienced programmer nor deep learning beginners how to use it.\n",
    "\n",
    "The original example code comes from: https://machinelearningmastery.com/multivariate-time-series-forecasting-lstms-keras/ . In notebook 1/2, we renamed files and variables just following the template example notation. Also, this notation is very often used in Keras documentation. So we prefer to notate the X train matrix as \"X_train\" and not \"Train_X\". In this notebook fully implement the deep learning template folder and files structure.\n",
    "\n"
   ]
  },
  {
   "cell_type": "markdown",
   "metadata": {},
   "source": [
    "# Tutorial-LSTM"
   ]
  },
  {
   "cell_type": "markdown",
   "metadata": {},
   "source": [
    "To make the code reproducible."
   ]
  },
  {
   "cell_type": "code",
   "execution_count": 1,
   "metadata": {
    "collapsed": false,
    "scrolled": true
   },
   "outputs": [
    {
     "name": "stdout",
     "output_type": "stream",
     "text": [
      "Ram \n",
      "last updated: 2018-01-19 \n",
      "\n",
      "numpy 1.13.1\n",
      "scipy 0.19.1\n",
      "matplotlib 2.0.2\n",
      "sklearn 0.19.0\n"
     ]
    }
   ],
   "source": [
    "%load_ext watermark\n",
    "%watermark -a 'Ram' -u -d -p numpy,scipy,matplotlib,sklearn"
   ]
  },
  {
   "cell_type": "markdown",
   "metadata": {},
   "source": [
    "# 1. Air Pollution Forecasting"
   ]
  },
  {
   "cell_type": "markdown",
   "metadata": {},
   "source": [
    "### 1. Import libraries and modules. Load env variables"
   ]
  },
  {
   "cell_type": "code",
   "execution_count": 2,
   "metadata": {
    "collapsed": false
   },
   "outputs": [
    {
     "name": "stderr",
     "output_type": "stream",
     "text": [
      "Using TensorFlow backend.\n"
     ]
    }
   ],
   "source": [
    "## 1. Import libraries and modules. Load env variables\n",
    "import os\n",
    "import sys\n",
    "module_path = os.path.abspath(os.path.join('..'))\n",
    "import numpy as np\n",
    "np.random.seed(123)  # for reproducibility\n",
    "from numpy import concatenate\n",
    "from math import sqrt\n",
    "from matplotlib import pyplot\n",
    "from pandas import read_csv\n",
    "from pandas import DataFrame\n",
    "from pandas import concat\n",
    "from sklearn.preprocessing import MinMaxScaler\n",
    "from sklearn.preprocessing import LabelEncoder\n",
    "from sklearn.metrics import mean_squared_error\n",
    "from keras.models import Sequential\n",
    "from keras.layers import Dense\n",
    "from keras.layers import LSTM\n",
    "from dotenv import find_dotenv, load_dotenv\n",
    "\n",
    "#Reads the key,value pair from .env and adds them to environment variable \n",
    "load_dotenv(find_dotenv())\n",
    "\n",
    "# Check the env variables exist. Check as many variables as you need\n",
    "raw_msg = \"Set your raw data absolute path in the .env file at project root\"\n",
    "assert \"RAW_DIR\" in os.environ, raw_msg\n",
    "data_msg = \"Set your processed data absolute path in the .env file at project root\"\n",
    "assert \"DATA_DIR\" in os.environ, data_msg\n",
    "interim_msg = \"Set your interim data absolute path in the .env file at project root\"\n",
    "assert \"INTERIM_DIR\" in os.environ, interim_msg\n",
    "\n",
    "# Load env variables\n",
    "proj_dir = os.path.expanduser(os.environ.get(\"PROJ_DIR\"))\n",
    "data_dir = os.path.expanduser(os.environ.get(\"DATA_DIR\"))\n",
    "raw_dir = os.path.expanduser(os.environ.get(\"RAW_DIR\"))\n",
    "interim_dir = os.path.expanduser(os.environ.get(\"INTERIM_DIR\"))\n",
    "processed_dir = os.path.expanduser(os.environ.get(\"PROCESSED_DIR\"))\n",
    "figures_dir = os.path.expanduser(os.environ.get(\"FIGURES_DIR\"))\n",
    "model_dir = os.path.expanduser(os.environ.get(\"MODEL_DIR\"))\n",
    "external_dir = os.path.expanduser(os.environ.get(\"EXTERNAL_DIR\"))\n",
    "\n",
    "#Import Project our modules\n",
    "#\n",
    "#Add src/app to the PATH\n",
    "sys.path.append(os.path.join(proj_dir,\"src/app\"))\n",
    "#Add src/data to the PATH\n",
    "sys.path.append(os.path.join(proj_dir,\"src/data\"))\n",
    "import make_dataset as md\n",
    "#Add src/visualization to the PATH\n",
    "sys.path.append(os.path.join(proj_dir,\"src/visualization\"))\n",
    "import visualize as vs\n",
    "\n",
    "#Data files\n",
    "raw_data = os.path.join(raw_dir,\"PRSA_data_2010.1.1-2014.12.31.csv\")\n",
    "interim_data = os.path.join(interim_dir,\"pollution.csv\")"
   ]
  },
  {
   "cell_type": "code",
   "execution_count": 3,
   "metadata": {
    "collapsed": false
   },
   "outputs": [
    {
     "name": "stdout",
     "output_type": "stream",
     "text": [
      "/home/parrondo/projects/research/tutorial-LSTM/reports/figures/\n"
     ]
    }
   ],
   "source": [
    "print(os.environ['FIGURES_DIR'])"
   ]
  },
  {
   "cell_type": "code",
   "execution_count": 4,
   "metadata": {
    "collapsed": false
   },
   "outputs": [
    {
     "name": "stdout",
     "output_type": "stream",
     "text": [
      "/home/parrondo/projects/research/tutorial-LSTM\n"
     ]
    }
   ],
   "source": [
    "print(module_path)"
   ]
  },
  {
   "cell_type": "markdown",
   "metadata": {},
   "source": [
    "### 2. Download raw data sets"
   ]
  },
  {
   "cell_type": "code",
   "execution_count": 5,
   "metadata": {
    "collapsed": false
   },
   "outputs": [
    {
     "data": {
      "text/plain": [
       "2010494"
      ]
     },
     "execution_count": 5,
     "metadata": {},
     "output_type": "execute_result"
    }
   ],
   "source": [
    "## 2. Download raw data sets\n",
    "\n",
    "#This point must be adapted for each project\n",
    "import requests\n",
    "\n",
    "url = \"https://archive.ics.uci.edu/ml/machine-learning-databases/00381/PRSA_data_2010.1.1-2014.12.31.csv\"\n",
    "filename = \"PRSA_data_2010.1.1-2014.12.31.csv\"\n",
    "# >> False\n",
    "r = requests.get(url, allow_redirects=True)\n",
    "open(raw_data, 'wb').write(r.content) #write de data file into the actual notebook or .py folder"
   ]
  },
  {
   "cell_type": "markdown",
   "metadata": {},
   "source": [
    "Download .csv data file from https://archive.ics.uci.edu/ml/datasets/Beijing+PM2.5+Data and save in ../data/raw dir"
   ]
  },
  {
   "cell_type": "markdown",
   "metadata": {},
   "source": [
    "# 2. Basic Data Preparation"
   ]
  },
  {
   "cell_type": "code",
   "execution_count": 6,
   "metadata": {
    "collapsed": false
   },
   "outputs": [
    {
     "name": "stdout",
     "output_type": "stream",
     "text": [
      "                     pollution  dew  temp   press wnd_dir  wnd_spd  snow  rain\n",
      "date                                                                          \n",
      "2010-01-02 00:00:00      129.0  -16  -4.0  1020.0      SE     1.79     0     0\n",
      "2010-01-02 01:00:00      148.0  -15  -4.0  1020.0      SE     2.68     0     0\n",
      "2010-01-02 02:00:00      159.0  -11  -5.0  1021.0      SE     3.57     0     0\n",
      "2010-01-02 03:00:00      181.0   -7  -5.0  1022.0      SE     5.36     1     0\n",
      "2010-01-02 04:00:00      138.0   -7  -5.0  1022.0      SE     6.25     2     0\n",
      "Raw data cleaned yet\n"
     ]
    }
   ],
   "source": [
    "#Clean data and parse dates\n",
    "md.clean_data(filename)"
   ]
  },
  {
   "cell_type": "code",
   "execution_count": 7,
   "metadata": {
    "collapsed": false
   },
   "outputs": [
    {
     "data": {
      "image/png": "[encoded data removed]",
      "text/plain": [
       "<matplotlib.figure.Figure at 0x7f375117a588>"
      ]
     },
     "metadata": {},
     "output_type": "display_data"
    }
   ],
   "source": [
    "#visualize interim data\n",
    "vs.visualize(interim_data)"
   ]
  },
  {
   "cell_type": "markdown",
   "metadata": {},
   "source": [
    "# 3. Multivariate LSTM Forecast Model"
   ]
  },
  {
   "cell_type": "markdown",
   "metadata": {},
   "source": [
    "## LSTM Data Preparation"
   ]
  },
  {
   "cell_type": "code",
   "execution_count": 8,
   "metadata": {
    "collapsed": true
   },
   "outputs": [],
   "source": [
    "# convert series to supervised learning\n",
    "def series_to_supervised(data, n_in=1, n_out=1, dropnan=True):\n",
    "    \"\"\"\n",
    "    Frame a time series as a supervised learning dataset.\n",
    "    args:\n",
    "        data (list or NumPy array) Sequence of observations.\n",
    "        n_in (int) Number of lag observations as input (X).\n",
    "        n_ou: (int)  Boolean whether or not to drop rows with NaN values.\n",
    "    yields:\n",
    "        agg (Pandas DataFrame) of series framed for supervised learning.\n",
    "    \"\"\"\n",
    "    n_vars = 1 if type(data) is list else data.shape[1]\n",
    "    df = DataFrame(data)\n",
    "    cols, names = list(), list()\n",
    "    # input sequence (t-n, ... t-1)\n",
    "    for i in range(n_in, 0, -1):\n",
    "        cols.append(df.shift(i))\n",
    "        names += [('var%d(t-%d)' % (j+1, i)) for j in range(n_vars)]\n",
    "    # forecast sequence (t, t+1, ... t+n)\n",
    "    for i in range(0, n_out):\n",
    "        cols.append(df.shift(-i))\n",
    "        if i == 0:\n",
    "            names += [('var%d(t)' % (j+1)) for j in range(n_vars)]\n",
    "        else:\n",
    "            names += [('var%d(t+%d)' % (j+1, i)) for j in range(n_vars)]\n",
    "    # put it all together\n",
    "    agg = concat(cols, axis=1)\n",
    "    agg.columns = names\n",
    "    # drop rows with NaN values\n",
    "    if dropnan:\n",
    "        agg.dropna(inplace=True)\n",
    "    return agg"
   ]
  },
  {
   "cell_type": "code",
   "execution_count": 9,
   "metadata": {
    "collapsed": false
   },
   "outputs": [
    {
     "name": "stdout",
     "output_type": "stream",
     "text": [
      "   var1(t-1)  var2(t-1)  var3(t-1)  var4(t-1)  var5(t-1)  var6(t-1)  \\\n",
      "1   0.129779   0.352941   0.245902   0.527273   0.666667   0.002290   \n",
      "2   0.148893   0.367647   0.245902   0.527273   0.666667   0.003811   \n",
      "3   0.159960   0.426471   0.229508   0.545454   0.666667   0.005332   \n",
      "4   0.182093   0.485294   0.229508   0.563637   0.666667   0.008391   \n",
      "5   0.138833   0.485294   0.229508   0.563637   0.666667   0.009912   \n",
      "\n",
      "   var7(t-1)  var8(t-1)   var1(t)  \n",
      "1   0.000000        0.0  0.148893  \n",
      "2   0.000000        0.0  0.159960  \n",
      "3   0.000000        0.0  0.182093  \n",
      "4   0.037037        0.0  0.138833  \n",
      "5   0.074074        0.0  0.109658  \n"
     ]
    }
   ],
   "source": [
    "# load dataset\n",
    "dataset = read_csv(interim_data, header=0, index_col=0)\n",
    "values = dataset.values\n",
    "# integer encode direction\n",
    "encoder = LabelEncoder()\n",
    "values[:,4] = encoder.fit_transform(values[:,4])\n",
    "# ensure all data is float\n",
    "values = values.astype('float32')\n",
    "# normalize features\n",
    "scaler = MinMaxScaler(feature_range=(0, 1))\n",
    "scaled = scaler.fit_transform(values)\n",
    "# frame as supervised learning\n",
    "reframed = series_to_supervised(scaled, 1, 1)\n",
    "# drop columns we don't want to predict\n",
    "reframed.drop(reframed.columns[[9,10,11,12,13,14,15]], axis=1, inplace=True)\n",
    "print(reframed.head())"
   ]
  },
  {
   "cell_type": "markdown",
   "metadata": {},
   "source": [
    "## Define and Fit Model"
   ]
  },
  {
   "cell_type": "code",
   "execution_count": 10,
   "metadata": {
    "collapsed": false
   },
   "outputs": [
    {
     "name": "stdout",
     "output_type": "stream",
     "text": [
      "(8760, 1, 8) (8760,) (35039, 1, 8) (35039,)\n"
     ]
    }
   ],
   "source": [
    "# split into train and test sets\n",
    "values = reframed.values\n",
    "n_years = 1\n",
    "n_train_hours = 365 * 24 * n_years\n",
    "train = values[:n_train_hours, :]\n",
    "test = values[n_train_hours:, :]\n",
    "# split into input and outputs\n",
    "X_train, y_train = train[:, :-1], train[:, -1]\n",
    "X_test, y_test = test[:, :-1], test[:, -1]\n",
    "# reshape input to be 3D [samples, timesteps, features]\n",
    "X_train = X_train.reshape((X_train.shape[0], 1, X_train.shape[1]))\n",
    "X_test = X_test.reshape((X_test.shape[0], 1, X_test.shape[1]))\n",
    "print(X_train.shape, y_train.shape, X_test.shape, y_test.shape)"
   ]
  },
  {
   "cell_type": "code",
   "execution_count": 11,
   "metadata": {
    "collapsed": false
   },
   "outputs": [
    {
     "name": "stdout",
     "output_type": "stream",
     "text": [
      "Train on 8760 samples, validate on 35039 samples\n",
      "Epoch 1/50\n",
      "1s - loss: 0.0537 - val_loss: 0.0552\n",
      "Epoch 2/50\n",
      "0s - loss: 0.0356 - val_loss: 0.0454\n",
      "Epoch 3/50\n",
      "1s - loss: 0.0203 - val_loss: 0.0371\n",
      "Epoch 4/50\n",
      "0s - loss: 0.0158 - val_loss: 0.0199\n",
      "Epoch 5/50\n",
      "0s - loss: 0.0149 - val_loss: 0.0155\n",
      "Epoch 6/50\n",
      "0s - loss: 0.0148 - val_loss: 0.0144\n",
      "Epoch 7/50\n",
      "0s - loss: 0.0146 - val_loss: 0.0141\n",
      "Epoch 8/50\n",
      "0s - loss: 0.0146 - val_loss: 0.0141\n",
      "Epoch 9/50\n",
      "0s - loss: 0.0146 - val_loss: 0.0139\n",
      "Epoch 10/50\n",
      "0s - loss: 0.0146 - val_loss: 0.0138\n",
      "Epoch 11/50\n",
      "0s - loss: 0.0146 - val_loss: 0.0138\n",
      "Epoch 12/50\n",
      "0s - loss: 0.0145 - val_loss: 0.0136\n",
      "Epoch 13/50\n",
      "0s - loss: 0.0146 - val_loss: 0.0135\n",
      "Epoch 14/50\n",
      "0s - loss: 0.0145 - val_loss: 0.0135\n",
      "Epoch 15/50\n",
      "0s - loss: 0.0144 - val_loss: 0.0137\n",
      "Epoch 16/50\n",
      "0s - loss: 0.0146 - val_loss: 0.0137\n",
      "Epoch 17/50\n",
      "0s - loss: 0.0146 - val_loss: 0.0138\n",
      "Epoch 18/50\n",
      "0s - loss: 0.0144 - val_loss: 0.0137\n",
      "Epoch 19/50\n",
      "0s - loss: 0.0144 - val_loss: 0.0141\n",
      "Epoch 20/50\n",
      "0s - loss: 0.0146 - val_loss: 0.0137\n",
      "Epoch 21/50\n",
      "0s - loss: 0.0143 - val_loss: 0.0136\n",
      "Epoch 22/50\n",
      "0s - loss: 0.0145 - val_loss: 0.0137\n",
      "Epoch 23/50\n",
      "0s - loss: 0.0144 - val_loss: 0.0134\n",
      "Epoch 24/50\n",
      "0s - loss: 0.0146 - val_loss: 0.0141\n",
      "Epoch 25/50\n",
      "0s - loss: 0.0146 - val_loss: 0.0138\n",
      "Epoch 26/50\n",
      "0s - loss: 0.0143 - val_loss: 0.0136\n",
      "Epoch 27/50\n",
      "0s - loss: 0.0144 - val_loss: 0.0137\n",
      "Epoch 28/50\n",
      "0s - loss: 0.0143 - val_loss: 0.0137\n",
      "Epoch 29/50\n",
      "0s - loss: 0.0145 - val_loss: 0.0145\n",
      "Epoch 30/50\n",
      "0s - loss: 0.0144 - val_loss: 0.0137\n",
      "Epoch 31/50\n",
      "0s - loss: 0.0142 - val_loss: 0.0135\n",
      "Epoch 32/50\n",
      "0s - loss: 0.0143 - val_loss: 0.0136\n",
      "Epoch 33/50\n",
      "0s - loss: 0.0143 - val_loss: 0.0135\n",
      "Epoch 34/50\n",
      "0s - loss: 0.0145 - val_loss: 0.0135\n",
      "Epoch 35/50\n",
      "0s - loss: 0.0142 - val_loss: 0.0136\n",
      "Epoch 36/50\n",
      "0s - loss: 0.0144 - val_loss: 0.0143\n",
      "Epoch 37/50\n",
      "0s - loss: 0.0145 - val_loss: 0.0138\n",
      "Epoch 38/50\n",
      "0s - loss: 0.0142 - val_loss: 0.0135\n",
      "Epoch 39/50\n",
      "0s - loss: 0.0143 - val_loss: 0.0135\n",
      "Epoch 40/50\n",
      "0s - loss: 0.0144 - val_loss: 0.0136\n",
      "Epoch 41/50\n",
      "0s - loss: 0.0145 - val_loss: 0.0135\n",
      "Epoch 42/50\n",
      "0s - loss: 0.0143 - val_loss: 0.0138\n",
      "Epoch 43/50\n",
      "0s - loss: 0.0145 - val_loss: 0.0136\n",
      "Epoch 44/50\n",
      "0s - loss: 0.0142 - val_loss: 0.0135\n",
      "Epoch 45/50\n",
      "0s - loss: 0.0142 - val_loss: 0.0137\n",
      "Epoch 46/50\n",
      "0s - loss: 0.0144 - val_loss: 0.0137\n",
      "Epoch 47/50\n",
      "0s - loss: 0.0143 - val_loss: 0.0140\n",
      "Epoch 48/50\n",
      "0s - loss: 0.0144 - val_loss: 0.0138\n",
      "Epoch 49/50\n",
      "0s - loss: 0.0141 - val_loss: 0.0135\n",
      "Epoch 50/50\n",
      "0s - loss: 0.0143 - val_loss: 0.0139\n"
     ]
    },
    {
     "data": {
      "image/png": "[encoded data removed]",
      "text/plain": [
       "<matplotlib.figure.Figure at 0x7f373c413f98>"
      ]
     },
     "metadata": {},
     "output_type": "display_data"
    }
   ],
   "source": [
    "# design network\n",
    "model = Sequential()\n",
    "model.add(LSTM(50, input_shape=(X_train.shape[1], X_train.shape[2])))\n",
    "model.add(Dense(1))\n",
    "model.compile(loss='mae', optimizer='adam')\n",
    "# fit network\n",
    "history = model.fit(X_train, y_train, epochs=50, batch_size=72, validation_data=(X_test, y_test), verbose=2, shuffle=False)\n",
    "# plot history\n",
    "pyplot.plot(history.history['loss'], label='train')\n",
    "pyplot.plot(history.history['val_loss'], label='test')\n",
    "pyplot.legend()\n",
    "pyplot.show()"
   ]
  },
  {
   "cell_type": "markdown",
   "metadata": {},
   "source": [
    "# Evaluate Model"
   ]
  },
  {
   "cell_type": "code",
   "execution_count": 12,
   "metadata": {
    "collapsed": false
   },
   "outputs": [
    {
     "name": "stdout",
     "output_type": "stream",
     "text": [
      "Test RMSE: 26.780\n"
     ]
    },
    {
     "data": {
      "text/plain": [
       "array([[ 0.03118712],\n",
       "       [ 0.02012072],\n",
       "       [ 0.01911469],\n",
       "       ..., \n",
       "       [ 0.01006036],\n",
       "       [ 0.00804829],\n",
       "       [ 0.01207243]], dtype=float32)"
      ]
     },
     "execution_count": 12,
     "metadata": {},
     "output_type": "execute_result"
    }
   ],
   "source": [
    "# make a prediction\n",
    "yhat = model.predict(X_test)\n",
    "X_test = X_test.reshape((X_test.shape[0], X_test.shape[2]))\n",
    "# invert scaling for forecast\n",
    "yhat_inv = concatenate((yhat, X_test[:, 1:]), axis=1)\n",
    "yhat_inv = scaler.inverse_transform(yhat_inv)\n",
    "yhat_inv = yhat_inv[:,0]\n",
    "# invert scaling for actual\n",
    "y_test = y_test.reshape((len(y_test), 1))\n",
    "y_inv = concatenate((y_test, X_test[:, 1:]), axis=1)\n",
    "y_inv = scaler.inverse_transform(y_inv)\n",
    "y_inv = y_inv[:,0]\n",
    "# calculate RMSE\n",
    "rmse = sqrt(mean_squared_error(y_inv, yhat_inv))\n",
    "print('Test RMSE: %.3f' % rmse)\n",
    "y_test"
   ]
  },
  {
   "cell_type": "code",
   "execution_count": null,
   "metadata": {
    "collapsed": true
   },
   "outputs": [],
   "source": []
  }
 ],
 "metadata": {
  "anaconda-cloud": {},
  "kernelspec": {
   "display_name": "keras35",
   "language": "python",
   "name": "keras35"
  },
  "language_info": {
   "codemirror_mode": {
    "name": "ipython",
    "version": 3
   },
   "file_extension": ".py",
   "mimetype": "text/x-python",
   "name": "python",
   "nbconvert_exporter": "python",
   "pygments_lexer": "ipython3",
   "version": "3.5.4"
  }
 },
 "nbformat": 4,
 "nbformat_minor": 1
}
